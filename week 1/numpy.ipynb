{
 "cells": [
  {
   "cell_type": "code",
   "execution_count": 1,
   "metadata": {},
   "outputs": [],
   "source": [
    "import numpy as np"
   ]
  },
  {
   "cell_type": "code",
   "execution_count": 17,
   "metadata": {},
   "outputs": [
    {
     "name": "stdout",
     "output_type": "stream",
     "text": [
      "[[ 1  2  3  4  5]\n",
      " [ 6  7  8  9 10]\n",
      " [11 12 13 14 15]]\n"
     ]
    }
   ],
   "source": [
    "a = np.arange(1,16,1).reshape(3,5)\n",
    "print(a)"
   ]
  },
  {
   "cell_type": "code",
   "execution_count": 15,
   "metadata": {},
   "outputs": [
    {
     "name": "stdout",
     "output_type": "stream",
     "text": [
      "[ 1  2  3  4  5  6  7  8  9 10 11 12 13 14 15]\n"
     ]
    }
   ],
   "source": [
    "b = np.arange(1,16)\n",
    "print(b)"
   ]
  },
  {
   "cell_type": "code",
   "execution_count": 16,
   "metadata": {},
   "outputs": [
    {
     "data": {
      "text/plain": [
       "array([ 10,  20,  30,  40,  50,  60,  70,  80,  90, 100, 110, 120, 130,\n",
       "       140, 150])"
      ]
     },
     "execution_count": 16,
     "metadata": {},
     "output_type": "execute_result"
    }
   ],
   "source": [
    "b*10"
   ]
  },
  {
   "cell_type": "code",
   "execution_count": 26,
   "metadata": {},
   "outputs": [],
   "source": [
    "from IPython import display\n",
    "from PIL import Image"
   ]
  },
  {
   "cell_type": "code",
   "execution_count": 27,
   "metadata": {},
   "outputs": [],
   "source": [
    "im = Image.open('img.png')"
   ]
  },
  {
   "cell_type": "code",
   "execution_count": 36,
   "metadata": {},
   "outputs": [
    {
     "name": "stdout",
     "output_type": "stream",
     "text": [
      "(239, 346, 4)\n"
     ]
    },
    {
     "data": {
      "text/plain": [
       "array([[[171, 171, 171, 255],\n",
       "        [127, 128, 129, 255],\n",
       "        [ 69,  72,  74, 255],\n",
       "        ...,\n",
       "        [ 60,  63,  65, 255],\n",
       "        [ 60,  63,  65, 255],\n",
       "        [ 60,  63,  65, 255]],\n",
       "\n",
       "       [[173, 173, 173, 255],\n",
       "        [173, 173, 173, 255],\n",
       "        [167, 167, 168, 255],\n",
       "        ...,\n",
       "        [ 60,  63,  65, 255],\n",
       "        [ 60,  63,  65, 255],\n",
       "        [ 60,  63,  65, 255]],\n",
       "\n",
       "       [[173, 173, 173, 255],\n",
       "        [173, 173, 173, 255],\n",
       "        [173, 173, 173, 255],\n",
       "        ...,\n",
       "        [ 60,  63,  65, 255],\n",
       "        [ 60,  63,  65, 255],\n",
       "        [ 60,  63,  65, 255]],\n",
       "\n",
       "       ...,\n",
       "\n",
       "       [[ 60,  63,  65, 255],\n",
       "        [ 60,  63,  65, 255],\n",
       "        [ 60,  63,  65, 255],\n",
       "        ...,\n",
       "        [ 60,  63,  65, 255],\n",
       "        [ 60,  63,  65, 255],\n",
       "        [ 60,  63,  65, 255]],\n",
       "\n",
       "       [[ 60,  63,  65, 255],\n",
       "        [ 60,  63,  65, 255],\n",
       "        [ 60,  63,  65, 255],\n",
       "        ...,\n",
       "        [ 60,  63,  65, 255],\n",
       "        [ 60,  63,  65, 255],\n",
       "        [ 60,  63,  65, 255]],\n",
       "\n",
       "       [[ 60,  63,  65, 255],\n",
       "        [ 60,  63,  65, 255],\n",
       "        [ 60,  63,  65, 255],\n",
       "        ...,\n",
       "        [ 60,  63,  65, 255],\n",
       "        [ 60,  63,  65, 255],\n",
       "        [ 60,  63,  65, 255]]], dtype=uint8)"
      ]
     },
     "execution_count": 36,
     "metadata": {},
     "output_type": "execute_result"
    }
   ],
   "source": [
    "array = np.array(im)\n",
    "print(array.shape)\n",
    "array"
   ]
  },
  {
   "cell_type": "code",
   "execution_count": null,
   "metadata": {},
   "outputs": [],
   "source": []
  }
 ],
 "metadata": {
  "kernelspec": {
   "display_name": "Python 3",
   "language": "python",
   "name": "python3"
  },
  "language_info": {
   "codemirror_mode": {
    "name": "ipython",
    "version": 3
   },
   "file_extension": ".py",
   "mimetype": "text/x-python",
   "name": "python",
   "nbconvert_exporter": "python",
   "pygments_lexer": "ipython3",
   "version": "3.8.1"
  }
 },
 "nbformat": 4,
 "nbformat_minor": 4
}
